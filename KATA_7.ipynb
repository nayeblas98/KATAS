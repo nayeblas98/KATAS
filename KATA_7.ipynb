{
 "cells": [
  {
   "cell_type": "markdown",
   "metadata": {},
   "source": [
    "# KATA 7"
   ]
  },
  {
   "cell_type": "code",
   "execution_count": 11,
   "metadata": {},
   "outputs": [
    {
     "name": "stdout",
     "output_type": "stream",
     "text": [
      "Venus\n",
      "Mercury\n",
      "Saturn\n",
      "Earth\n"
     ]
    }
   ],
   "source": [
    "# Ciclo While y For\n",
    "\n",
    "new_planet = input('Enter planet name')\n",
    "planets = []\n",
    "\n",
    "while new_planet.lower() != 'done':\n",
    "    if new_planet:\n",
    "        planets.append(new_planet)\n",
    "    new_planet = input('Enter a new value, or enter done when done.')\n",
    "\n",
    "for planeta in planets:\n",
    "    print(planeta)\n",
    "\n",
    "\n",
    "\n"
   ]
  }
 ],
 "metadata": {
  "interpreter": {
   "hash": "d2c716690a0b3700f2e1781621320a5f3884fe11b6e503d4f3c8f99e2a0ed55a"
  },
  "kernelspec": {
   "display_name": "Python 3.10.2 64-bit (windows store)",
   "language": "python",
   "name": "python3"
  },
  "language_info": {
   "codemirror_mode": {
    "name": "ipython",
    "version": 3
   },
   "file_extension": ".py",
   "mimetype": "text/x-python",
   "name": "python",
   "nbconvert_exporter": "python",
   "pygments_lexer": "ipython3",
   "version": "3.10.2"
  },
  "orig_nbformat": 4
 },
 "nbformat": 4,
 "nbformat_minor": 2
}
