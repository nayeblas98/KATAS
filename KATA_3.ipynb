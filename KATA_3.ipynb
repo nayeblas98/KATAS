{
 "cells": [
  {
   "cell_type": "markdown",
   "metadata": {},
   "source": [
    "# Boleanos"
   ]
  },
  {
   "cell_type": "code",
   "execution_count": 1,
   "metadata": {},
   "outputs": [
    {
     "name": "stdout",
     "output_type": "stream",
     "text": [
      "¡ADVERTENCIA! ASTEROIDE ACERCANDOSE A LA TIERRA.\n"
     ]
    }
   ],
   "source": [
    "velocidadAst = 49 \n",
    "\n",
    "if velocidadAst > 25:\n",
    "    print(\"¡ADVERTENCIA! ASTEROIDE ACERCANDOSE A LA TIERRA.\") \n",
    "else:\n",
    "    print(\"TODO BIEN\")\n",
    "\n"
   ]
  },
  {
   "cell_type": "code",
   "execution_count": 2,
   "metadata": {},
   "outputs": [
    {
     "name": "stdout",
     "output_type": "stream",
     "text": [
      "¡Mire el rayo de luz en el cielo!\n"
     ]
    }
   ],
   "source": [
    "velocidadAst = 21\n",
    "\n",
    "if velocidadAst > 20:\n",
    "    print(\"¡Mire el rayo de luz en el cielo!\")\n",
    "elif velocidadAst == 20:\n",
    "    print(\"¡Mire el rayo de luz en el cielo!\")\n",
    "else: \n",
    "    print(\"No se detecta ningún rayo de luz en el cielo.\")"
   ]
  },
  {
   "cell_type": "code",
   "execution_count": 6,
   "metadata": {},
   "outputs": [
    {
     "name": "stdout",
     "output_type": "stream",
     "text": [
      "Observe el rayo de luz en el cielo de un asteroide que viaja a una velocidad de 20 km/s y con una dimensión de 39 metros.\n"
     ]
    }
   ],
   "source": [
    "velocidadAst = 20\n",
    "dimensionAst = 39\n",
    "\n",
    "if velocidadAst > 25 and dimensionAst > 25:\n",
    "     print(\"¡PELIGRO! Asteroide con una velocidad de \" + str(velocidadAst) + \" km/s y con una dimensión de \" + str(dimensionAst) + (\" metros esta acercandose a la Tierra.\")) \n",
    "elif velocidadAst > 20 or velocidadAst == 20:\n",
    "    print(\"Observe el rayo de luz en el cielo de un asteroide que viaja a una velocidad de \" + str(velocidadAst) + \" km/s y con una dimensión de \" + str(dimensionAst) + \" metros.\")\n",
    "elif dimensionAst < 25: \n",
    "    print(\"No se detecto nada para observar.\")\n",
    "else: \n",
    "    print(\"No se detecto nada para observar.\")"
   ]
  }
 ],
 "metadata": {
  "interpreter": {
   "hash": "669f5abd92f1a410df15b0643b9f42360e277a412fc08ae8bc7d7911cf7e8f3d"
  },
  "kernelspec": {
   "display_name": "Python 3.10.2 64-bit",
   "language": "python",
   "name": "python3"
  },
  "language_info": {
   "codemirror_mode": {
    "name": "ipython",
    "version": 3
   },
   "file_extension": ".py",
   "mimetype": "text/x-python",
   "name": "python",
   "nbconvert_exporter": "python",
   "pygments_lexer": "ipython3",
   "version": "3.10.2"
  },
  "orig_nbformat": 4
 },
 "nbformat": 4,
 "nbformat_minor": 2
}
