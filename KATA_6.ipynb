{
 "cells": [
  {
   "cell_type": "markdown",
   "metadata": {},
   "source": [
    "# Planets"
   ]
  },
  {
   "cell_type": "code",
   "execution_count": 15,
   "metadata": {},
   "outputs": [
    {
     "name": "stdout",
     "output_type": "stream",
     "text": [
      "There are 9 planets in the Solar System.\n",
      "The last planet in the Solar System is Pluto\n"
     ]
    }
   ],
   "source": [
    "planets = ['Mercury', 'Venus', 'Earth', 'Mars', 'Jupiter', 'Saturn', 'Uranus', 'Neptune', 'Pluton']\n",
    "\n",
    "print('There are', len(planets), 'planets in the Solar System.')\n",
    "planets.append('Pluto')\n",
    "print('The last planet in the Solar System is', planets[-1])"
   ]
  },
  {
   "cell_type": "code",
   "execution_count": 35,
   "metadata": {},
   "outputs": [
    {
     "name": "stdout",
     "output_type": "stream",
     "text": [
      "Here are the planets closer to the Sun than Jupiter\n",
      "['Mercury', 'Venus', 'Earth', 'Mars']\n",
      "Here are the planets futher to the Sun than Jupiter\n",
      "['Saturn', 'Neptune']\n"
     ]
    }
   ],
   "source": [
    "planets = ['Mercury', 'Venus', 'Earth', 'Mars', 'Jupiter', 'Saturn', 'Neptune']\n",
    "planetName = input('Planet name')\n",
    "\n",
    "planet_index = planets.index(planetName)\n",
    "\n",
    "print('Here are the planets closer to the Sun than', planetName)\n",
    "print(planets[0: planet_index])\n",
    "\n",
    "print('Here are the planets futher to the Sun than', planetName)\n",
    "print(planets[planet_index + 1:])"
   ]
  }
 ],
 "metadata": {
  "interpreter": {
   "hash": "d2c716690a0b3700f2e1781621320a5f3884fe11b6e503d4f3c8f99e2a0ed55a"
  },
  "kernelspec": {
   "display_name": "Python 3.10.2 64-bit (windows store)",
   "language": "python",
   "name": "python3"
  },
  "language_info": {
   "codemirror_mode": {
    "name": "ipython",
    "version": 3
   },
   "file_extension": ".py",
   "mimetype": "text/x-python",
   "name": "python",
   "nbconvert_exporter": "python",
   "pygments_lexer": "ipython3",
   "version": "3.10.2"
  },
  "orig_nbformat": 4
 },
 "nbformat": 4,
 "nbformat_minor": 2
}
